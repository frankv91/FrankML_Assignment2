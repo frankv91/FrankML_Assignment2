{
 "cells": [
  {
   "cell_type": "markdown",
   "metadata": {},
   "source": [
    "# Foundations of Data Mining: Assignment 2\n",
    "\n",
    "Please complete all assignments in this notebook. You should submit this notebook, as well as a PDF version (See File > Download as)."
   ]
  },
  {
   "cell_type": "code",
   "execution_count": 1,
   "metadata": {
    "collapsed": false
   },
   "outputs": [],
   "source": [
    "%matplotlib inline\n",
    "from preamble import *\n",
    "plt.rcParams['savefig.dpi'] = 100 # This controls the size of your figures\n",
    "# Comment out and restart notebook if you only want the last output of each cell.\n",
    "InteractiveShell.ast_node_interactivity = \"none\" "
   ]
  },
  {
   "cell_type": "code",
   "execution_count": 2,
   "metadata": {
    "collapsed": true
   },
   "outputs": [],
   "source": [
    "# This is a temporary read-only OpenML key. Replace with your own key later. \n",
    "oml.config.apikey = '11e82c8d91c5abece86f424369c71590'"
   ]
  },
  {
   "cell_type": "markdown",
   "metadata": {},
   "source": [
    "## Robots and SVMs (4 points (2+1+1))\n",
    "\n",
    "The [Wall Robot Navigation dataset](http://www.openml.org/d/1497) contains about 5500 readings of an ultrasound sensor array mounted on a robot, and your task is to finetune and train an SVM classifier to predict how the robot should move next.\n",
    "\n",
    "- Make a stratified 80-20 split of the data. On the training set alone, optimize the main hyperparameters of the SVM for Accuracy with a random search. Vary at least the main kernel types (linear, polynomial, and RBF), the C parameter, the $\\gamma$ parameter for the RBF kernel and the exponent/degree for the polynomial kernel. Report the optimal hyperparameter settings and Accuracy performance. \n",
    "    - The degree of the polynonial is typically in the range 2..10.\n",
    "    - Hint: note that the hyperparameter ranges depend on each other. For instance, $\\gamma$ only makes sense if you have selected the RBF kernel as well. We've seen in class how to define multiple hyperparameter spaces in a random/grid search.\n",
    "- Use a 5x3-fold (5 outer, 3 inner) nested cross-validation (CV) on the **whole** dataset to obtain a clean evaluation. What is the mean optimized performance? Is this in line with the optimized result of the random search of the previous question?\n",
    "- Train an SVM using the optimal hyperparameter configuration you found (in part 1 of this question) and test it on the held out (20%) test set. Compare this Accuracy result with the (mean) result of the nested CV. If you would build this robot in practice, how would you find the hyperparameters to use, and which performance would you expect? Is it truly necessary to tune the hyperparameters? Which hyperparameters were most important to tune?"
   ]
  },
  {
   "cell_type": "code",
   "execution_count": 3,
   "metadata": {
    "collapsed": false
   },
   "outputs": [],
   "source": [
    "robot_data = oml.datasets.get_dataset(1497) # Download Robot data\n",
    "# Get the predictors X and the labels y\n",
    "X, y = robot_data.get_data(target=robot_data.default_target_attribute)"
   ]
  },
  {
   "cell_type": "code",
   "execution_count": 4,
   "metadata": {
    "collapsed": false
   },
   "outputs": [],
   "source": [
    "from sklearn.model_selection import train_test_split\n",
    "from sklearn.model_selection import RandomizedSearchCV\n",
    "from sklearn.model_selection import GridSearchCV \n",
    "from sklearn.model_selection import cross_val_score\n",
    "from scipy.stats import expon\n",
    "from sklearn import svm\n"
   ]
  },
  {
   "cell_type": "code",
   "execution_count": 5,
   "metadata": {
    "collapsed": true
   },
   "outputs": [],
   "source": [
    "def extract_value(info, key):\n",
    "    if key in info:\n",
    "        return info[key]\n",
    "    return 'Na'\n",
    "\n",
    "\n",
    "def create_dataframe(results):\n",
    "    items = []\n",
    "    for result in results:\n",
    "        info = []\n",
    "        info.append(result[0]['C'])\n",
    "        info.append(extract_value(result[0], 'gamma'))\n",
    "        info.append(extract_value(result[0], 'coef0'))\n",
    "        info.append(extract_value(result[0], 'degree'))\n",
    "        info.append(result[1])\n",
    "        items.append((result[0]['kernel'], info))\n",
    "        \n",
    "    return pd.DataFrame.from_items(items, orient='index', \n",
    "                                   columns=['C', 'r', 'gamma', 'degree', 'accuracy'])\n",
    "\n",
    "def select_best(results):\n",
    "    best_accuracy = 0.0\n",
    "    best_params = None\n",
    "    \n",
    "    for result in results:\n",
    "        if result[1] > best_accuracy:\n",
    "            best_accuracy = result[1]\n",
    "            best_params = result[0]\n",
    "    \n",
    "    return (best_params, best_accuracy)"
   ]
  },
  {
   "cell_type": "code",
   "execution_count": 6,
   "metadata": {
    "collapsed": false
   },
   "outputs": [],
   "source": [
    "X_train, X_test, y_train, y_test = train_test_split(X,y,test_size=0.2,\n",
    "                                                    random_state=0,stratify=y)\n",
    "\n",
    "param_grid = [\n",
    "    {'kernel': ['linear'], \n",
    "     'C': [0.0001, 0.001, 0.01, 0.1, 1, 10, 100, 1000]},\n",
    "    {'kernel': ['poly'],\n",
    "     'C': [0.0001, 0.001, 0.01, 0.1, 1, 10, 100, 1000],\n",
    "     'degree': np.arange(2,11).tolist(),\n",
    "     'coef0': [1.0/16, 1.0/8, 1.0/4, 1.0/2, 1.0, 2, 4, 8, 16, 32]},\n",
    "    {'kernel': ['rbf'], \n",
    "     'C': [0.0001, 0.001, 0.01, 0.1, 1, 10, 100, 1000], \n",
    "     'gamma': [0.0001, 0.001, 0.01, 0.1, 1, 10, 100, 1000]},\n",
    "    {'kernel': ['sigmoid'],\n",
    "     'C': [0.0001, 0.001, 0.01, 0.1, 1, 10, 100, 1000],\n",
    "     'gamma': [0.0001, 0.001, 0.01, 0.1, 1, 10, 100, 1000],\n",
    "     'coef0': [1.0/16, 1.0/8, 1.0/4, 1.0/2, 1.0, 2, 4, 8, 16, 32]}\n",
    " ]\n",
    "\n",
    "n_iter_search = 6\n",
    "random_search_results = []\n",
    "clf_performances = []\n",
    "\n",
    "for params in param_grid:\n",
    "    random_search = RandomizedSearchCV(svm.SVC(),\n",
    "                                       param_distributions=params,\n",
    "                                       n_iter=n_iter_search,\n",
    "                                       scoring='accuracy',\n",
    "                                       cv=5)\n",
    "    random_search.fit(X_train, y_train)\n",
    "    \n",
    "    clf_performances.append((random_search.best_params_,\n",
    "                           random_search.best_score_))\n",
    "    \n",
    "    random_search_results.append(\n",
    "        {\n",
    "            random_search.best_params_['kernel'] :\n",
    "            random_search.cv_results_\n",
    "        }\n",
    "    )\n",
    "    "
   ]
  },
  {
   "cell_type": "markdown",
   "metadata": {},
   "source": [
    "### Optimal hyperparameters settings and accuracy performance"
   ]
  },
  {
   "cell_type": "code",
   "execution_count": 7,
   "metadata": {
    "collapsed": false
   },
   "outputs": [
    {
     "data": {
      "text/html": [
       "<div>\n",
       "<table border=\"1\" class=\"dataframe\">\n",
       "  <thead>\n",
       "    <tr style=\"text-align: right;\">\n",
       "      <th></th>\n",
       "      <th>C</th>\n",
       "      <th>r</th>\n",
       "      <th>gamma</th>\n",
       "      <th>degree</th>\n",
       "      <th>accuracy</th>\n",
       "    </tr>\n",
       "  </thead>\n",
       "  <tbody>\n",
       "    <tr>\n",
       "      <th>linear</th>\n",
       "      <td>1.00e+01</td>\n",
       "      <td>Na</td>\n",
       "      <td>Na</td>\n",
       "      <td>Na</td>\n",
       "      <td>0.73</td>\n",
       "    </tr>\n",
       "    <tr>\n",
       "      <th>poly</th>\n",
       "      <td>1.00e-04</td>\n",
       "      <td>Na</td>\n",
       "      <td>4</td>\n",
       "      <td>6</td>\n",
       "      <td>0.91</td>\n",
       "    </tr>\n",
       "    <tr>\n",
       "      <th>rbf</th>\n",
       "      <td>1.00e+02</td>\n",
       "      <td>0.01</td>\n",
       "      <td>Na</td>\n",
       "      <td>Na</td>\n",
       "      <td>0.92</td>\n",
       "    </tr>\n",
       "    <tr>\n",
       "      <th>sigmoid</th>\n",
       "      <td>1.00e-01</td>\n",
       "      <td>100</td>\n",
       "      <td>0.062</td>\n",
       "      <td>Na</td>\n",
       "      <td>0.40</td>\n",
       "    </tr>\n",
       "  </tbody>\n",
       "</table>\n",
       "</div>"
      ],
      "text/plain": [
       "                C     r  gamma degree  accuracy\n",
       "linear   1.00e+01    Na     Na     Na      0.73\n",
       "poly     1.00e-04    Na      4      6      0.91\n",
       "rbf      1.00e+02  0.01     Na     Na      0.92\n",
       "sigmoid  1.00e-01   100  0.062     Na      0.40"
      ]
     },
     "metadata": {},
     "output_type": "display_data"
    },
    {
     "name": "stdout",
     "output_type": "stream",
     "text": [
      "Optimal hyperparameters: {'gamma': 0.01, 'C': 100, 'kernel': 'rbf'}\n",
      "Accuracy performance: 0.92\n"
     ]
    }
   ],
   "source": [
    "svm_best_parameters, best_accuracy = select_best(clf_performances)\n",
    "df = create_dataframe(clf_performances)\n",
    "display(df)\n",
    "print(\"Optimal hyperparameters: {}\".format(svm_best_parameters))\n",
    "print(\"Accuracy performance: {:.2f}\".format(best_accuracy))"
   ]
  },
  {
   "cell_type": "code",
   "execution_count": 8,
   "metadata": {
    "collapsed": false
   },
   "outputs": [],
   "source": [
    "\n",
    "def construct_grid_params(best_parameters):\n",
    "    variable_param = []\n",
    "    grid_params = []\n",
    "    if best_parameters['kernel'] == 'poly':\n",
    "        grid_params.append({\n",
    "                'kernel': ['poly'],\n",
    "                'C': [0.0001, 0.001, 0.01, 0.1, 1, 10, 100, 1000],\n",
    "                'degree': [best_parameters['degree']],#*8,\n",
    "                'coef0': [best_parameters['coef0']],#*8\n",
    "            })\n",
    "        variable_param.append('param_C')\n",
    "        \n",
    "        grid_params.append({\n",
    "                'kernel': ['poly'],\n",
    "                'C': [best_parameters['C']],#*9,\n",
    "                'degree': np.arange(2,11).tolist(),\n",
    "                'coef0': [best_parameters['coef0']],#*9                \n",
    "            })\n",
    "        variable_param.append('param_degree')\n",
    "        \n",
    "        grid_params.append({\n",
    "                'kernel': ['poly'],\n",
    "                'C': [best_parameters['C']],#*10,\n",
    "                'degree': [best_parameters['degree']],#*10,\n",
    "                'coef0': [1.0/16, 1.0/8, 1.0/4, 1.0/2, 1.0, 2, 4, 8, 16, 32]                                \n",
    "            })\n",
    "        variable_param.append('param_coef0') \n",
    "    \n",
    "    elif best_parameters['kernel'] == 'rbf':\n",
    "        grid_params.append({\n",
    "                'kernel': ['rbf'],\n",
    "                'C': [0.0001, 0.001, 0.01, 0.1, 1, 10, 100, 1000],\n",
    "                'gamma': [best_parameters['gamma']],#*8\n",
    "            })\n",
    "        variable_param.append('param_C')\n",
    "        \n",
    "        grid_params.append({\n",
    "                'kernel': ['rbf'],\n",
    "                'C': [best_parameters['C']],#*8,\n",
    "                'gamma': [0.0001, 0.001, 0.01, 0.1, 1, 10, 100, 1000]                \n",
    "            })\n",
    "        variable_param.append('param_gamma')\n",
    "    \n",
    "    elif best_parameters['kernel'] == 'sigmoid':\n",
    "        grid_params.append({\n",
    "                'kernel': ['sigmoid'],\n",
    "                'C': [0.0001, 0.001, 0.01, 0.1, 1, 10, 100, 1000],\n",
    "                'gamma': [best_parameters['gamma']],#*8,\n",
    "                'coef0': [best_parameters['coef0']],#*8\n",
    "            })\n",
    "        variable_param.append('param_C')\n",
    "        \n",
    "        grid_params.append({\n",
    "                'kernel': ['sigmoid'],\n",
    "                'C': [best_parameters['C']],#*8,\n",
    "                'gamma': [0.0001, 0.001, 0.01, 0.1, 1, 10, 100, 1000],\n",
    "                'coef0': [best_parameters['coef0']],#*8                \n",
    "            })\n",
    "        variable_param.append('param_gamma')\n",
    "        \n",
    "        grid_params.append({\n",
    "                'kernel': ['sigmoid'],\n",
    "                'C': [best_parameters['C']],#*10,\n",
    "                'gamma': [best_parameters['gamma']],#*10,\n",
    "                'coef0': [1.0/16, 1.0/8, 1.0/4, 1.0/2, 1.0, 2, 4, 8, 16, 32]                                \n",
    "            })\n",
    "        variable_param.append('param_coef0')\n",
    "    \n",
    "    return (grid_params, variable_param)\n",
    "\n",
    "def extract_variable(parameters):\n",
    "    variable = []\n",
    "    for key in parameters:\n",
    "        if len(parameters[key]) > 1:\n",
    "            variable = parameters[key]\n",
    "    return variable\n"
   ]
  },
  {
   "cell_type": "code",
   "execution_count": 9,
   "metadata": {
    "collapsed": false
   },
   "outputs": [],
   "source": [
    "ev_grid_params, variable_param = construct_grid_params(svm_best_parameters)\n",
    "cv_results = []\n",
    "\n",
    "for index, grid_param in enumerate(ev_grid_params):\n",
    "    \n",
    "    grid_search = GridSearchCV(svm.SVC(), grid_param, scoring='accuracy', cv=5)\n",
    "    grid_search.fit(X_train, y_train)\n",
    "    \n",
    "    cv_results.append({variable_param[index]:{'mean_test_score':\n",
    "                                              grid_search.cv_results_[\"mean_test_score\"],\n",
    "                                              'variable_values':\n",
    "                                              extract_variable(grid_param)\n",
    "                                             }})"
   ]
  },
  {
   "cell_type": "markdown",
   "metadata": {},
   "source": [
    "### Visualizing hyperparameter impact"
   ]
  },
  {
   "cell_type": "code",
   "execution_count": 10,
   "metadata": {
    "collapsed": true
   },
   "outputs": [],
   "source": [
    "def create_plot(parameters, fig):\n",
    "    var_name = list(parameters.keys())[0]\n",
    "    content = parameters[var_name]\n",
    "    var_value = content['variable_values']\n",
    "    mean_test_scores = content['mean_test_score']\n",
    "    if (var_name == 'param_C' or var_name == 'param_gamma'):\n",
    "        plt.semilogx(var_value, mean_test_scores)\n",
    "    else:\n",
    "        plt.plot(var_value, mean_test_scores)\n",
    "    plt.legend([\"variable: \" + var_name], loc=\"upper left\")\n",
    "    plt.figure(fig)\n",
    "    plt.show()\n",
    "    "
   ]
  },
  {
   "cell_type": "code",
   "execution_count": 11,
   "metadata": {
    "collapsed": false
   },
   "outputs": [
    {
     "data": {
      "text/plain": [
       "<matplotlib.figure.Figure at 0x7fa5ef54a0f0>"
      ]
     },
     "metadata": {},
     "output_type": "display_data"
    },
    {
     "data": {
      "application/pdf": "[encoded data removed]",
      "image/png": "[encoded data removed]",
      "text/plain": [
       "<matplotlib.figure.Figure at 0x7fa5f2929da0>"
      ]
     },
     "metadata": {},
     "output_type": "display_data"
    },
    {
     "data": {
      "application/pdf": "[encoded data removed]",
      "image/png": "[encoded data removed]",
      "text/plain": [
       "<matplotlib.figure.Figure at 0x7fa5ef5866d8>"
      ]
     },
     "metadata": {},
     "output_type": "display_data"
    }
   ],
   "source": [
    "labels = []\n",
    "for index, element in enumerate(cv_results):\n",
    "  create_plot(element, index)"
   ]
  },
  {
   "cell_type": "code",
   "execution_count": 12,
   "metadata": {
    "collapsed": false
   },
   "outputs": [],
   "source": [
    "results = []\n",
    "\n",
    "for params in param_grid:\n",
    "    scores= cross_val_score(RandomizedSearchCV(svm.SVC(), \n",
    "                                               param_distributions=params,\n",
    "                                               n_iter=n_iter_search,\n",
    "                                               scoring='accuracy',\n",
    "                                               cv=3),\n",
    "                                           X, y, cv=5)\n",
    "    \n",
    "    results.append((params['kernel'], scores.mean()))\n",
    "\n",
    "best_kernel, best_mean_accuracy = select_best(results)\n"
   ]
  },
  {
   "cell_type": "markdown",
   "metadata": {},
   "source": [
    "### 5x3-fold nested cross-validation results"
   ]
  },
  {
   "cell_type": "code",
   "execution_count": 13,
   "metadata": {
    "collapsed": false
   },
   "outputs": [
    {
     "name": "stdout",
     "output_type": "stream",
     "text": [
      "Mean accuracy for nested cross-validation: 0.87\n"
     ]
    }
   ],
   "source": [
    "print(\"Mean accuracy for nested cross-validation: {:.2f}\".format(best_mean_accuracy))"
   ]
  },
  {
   "cell_type": "markdown",
   "metadata": {},
   "source": [
    "The accuracy obtained from the random search is better than the mean optimized performance obtained with cross validation. Random search seems to perform better than cross validation, but the difference between performance values is small, and cross validation works over different training/test sets while random search does not (this time it seems like it got a nice training/test split).We think the results from cross validation and random search are in line."
   ]
  },
  {
   "cell_type": "markdown",
   "metadata": {},
   "source": [
    "### Held out test set results"
   ]
  },
  {
   "cell_type": "code",
   "execution_count": 14,
   "metadata": {
    "collapsed": false,
    "scrolled": true
   },
   "outputs": [
    {
     "name": "stdout",
     "output_type": "stream",
     "text": [
      "Computed score on test set: 0.93\n"
     ]
    }
   ],
   "source": [
    "opt_svm = svm.SVC(**svm_best_parameters)\n",
    "opt_svm.fit(X_train, y_train)\n",
    "score = opt_svm.score(X_test, y_test)\n",
    "print(\"Computed score on test set: {:.2f}\".format(score))"
   ]
  },
  {
   "cell_type": "markdown",
   "metadata": {},
   "source": [
    "The accuracy result of the held out test set is better than the results from cross validation.\n",
    "\n",
    "In practice we could use nested cross validation implemented from scratch to retrieve the best hyperparameters trained using grid search or random search.\n",
    "\n",
    "I would expect a performance better than 0.90\n",
    "\n",
    "The graphs from before show that parameter C affects the svm's peformance more than the other parameters."
   ]
  }
 ],
 "metadata": {
  "anaconda-cloud": {},
  "kernelspec": {
   "display_name": "Python [Root]",
   "language": "python",
   "name": "Python [Root]"
  },
  "language_info": {
   "codemirror_mode": {
    "name": "ipython",
    "version": 3
   },
   "file_extension": ".py",
   "mimetype": "text/x-python",
   "name": "python",
   "nbconvert_exporter": "python",
   "pygments_lexer": "ipython3",
   "version": "3.5.2"
  }
 },
 "nbformat": 4,
 "nbformat_minor": 2
}
