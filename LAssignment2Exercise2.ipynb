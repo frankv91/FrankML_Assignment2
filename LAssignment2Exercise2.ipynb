{
 "cells": [
  {
   "cell_type": "markdown",
   "metadata": {},
   "source": [
    "# Foundations of Data Mining: Assignment 2\n",
    "\n",
    "Please complete all assignments in this notebook. You should submit this notebook, as well as a PDF version (See File > Download as)."
   ]
  },
  {
   "cell_type": "code",
   "execution_count": 1,
   "metadata": {
    "collapsed": false
   },
   "outputs": [],
   "source": [
    "%matplotlib inline\n",
    "from preamble import *\n",
    "plt.rcParams['savefig.dpi'] = 100 # This controls the size of your figures\n",
    "# Comment out and restart notebook if you only want the last output of each cell.\n",
    "InteractiveShell.ast_node_interactivity = \"none\" "
   ]
  },
  {
   "cell_type": "code",
   "execution_count": 2,
   "metadata": {
    "collapsed": true
   },
   "outputs": [],
   "source": [
    "# This is a temporary read-only OpenML key. Replace with your own key later. \n",
    "oml.config.apikey = '11e82c8d91c5abece86f424369c71590'"
   ]
  },
  {
   "cell_type": "markdown",
   "metadata": {},
   "source": [
    "## Kernel selection (4 points (1+2+1))\n",
    "SVMs can be trained with different kernels. Generate a 2-dimensional dataset as shown below and study the effect of the choice of kernel by visualizing the results.\n",
    "\n",
    "- Train a SVM classifier on the dataset using respectively a linear, polynomial and radial basis function (RBF) kernel, evaluate the performance of each kernel using 10-fold cross-validation and AUC. Which one works best? Visualize the results. Can you intuitively explain why one kernel is more suited than another?\n",
    "    - Hint: you can use the visualization code used in class. It is under mglearn/plot_svm.py > plot_svm_kernels().\n",
    "- Take the RBF kernel and vary both the C parameter and the kernel width ($\\gamma$). Use 3 values for each (a very small, default, and very large value). For each of the 9 combinations, create the same RBF plot as before, report the number of support vectors, and the AUC performance. Explain the performance results. When are you over/underfitting?\n",
    "    - Hint: values for C and $\\gamma$ are typically in [$2^{-15}..2^{15}$] on a log scale. \n",
    "    - Hint: don't count the support vectors manually, retrieve them from the trained SVM.\n",
    "- Vary C and $\\gamma$ again, but this time use a grid of at least 20x20, vary both parameters uniformly on a log scale, and visualise the results using a $C \\times \\gamma \\rightarrow AUC$ heatmap. Explain the performance results, and compare them to the 9 results obtained in the previous subquestion. Can you also tell in which regions of the heatmap you are over/underfitting?\n",
    "    - Hint: We've constructed such a heatmap in class and in assignment 1."
   ]
  },
  {
   "cell_type": "code",
   "execution_count": 24,
   "metadata": {
    "collapsed": false
   },
   "outputs": [
    {
     "ename": "NameError",
     "evalue": "name 'make_blobs' is not defined",
     "output_type": "error",
     "traceback": [
      "\u001b[1;31m---------------------------------------------------------------------------\u001b[0m",
      "\u001b[1;31mNameError\u001b[0m                                 Traceback (most recent call last)",
      "\u001b[1;32m<ipython-input-24-527ad08c6bdd>\u001b[0m in \u001b[0;36m<module>\u001b[1;34m()\u001b[0m\n\u001b[1;32m----> 1\u001b[1;33m \u001b[0mX\u001b[0m\u001b[1;33m,\u001b[0m \u001b[0my\u001b[0m \u001b[1;33m=\u001b[0m \u001b[0mmake_blobs\u001b[0m\u001b[1;33m(\u001b[0m\u001b[0mcenters\u001b[0m\u001b[1;33m=\u001b[0m\u001b[1;36m2\u001b[0m\u001b[1;33m,\u001b[0m \u001b[0mn_samples\u001b[0m\u001b[1;33m=\u001b[0m\u001b[1;36m1000\u001b[0m\u001b[1;33m,\u001b[0m \u001b[0mrandom_state\u001b[0m\u001b[1;33m=\u001b[0m\u001b[1;36m0\u001b[0m\u001b[1;33m)\u001b[0m\u001b[1;33m\u001b[0m\u001b[0m\n\u001b[0m",
      "\u001b[1;31mNameError\u001b[0m: name 'make_blobs' is not defined"
     ]
    }
   ],
   "source": [
    "X, y = make_blobs(centers=2, n_samples=1000, random_state=0)"
   ]
  },
  {
   "cell_type": "markdown",
   "metadata": {},
   "source": [
    "## Robots and SVMs (4 points (2+1+1))\n",
    "\n",
    "The [Wall Robot Navigation dataset](http://www.openml.org/d/1497) contains about 5500 readings of an ultrasound sensor array mounted on a robot, and your task is to finetune and train an SVM classifier to predict how the robot should move next.\n",
    "\n",
    "- Make a stratified 80-20 split of the data. On the training set alone, optimize the main hyperparameters of the SVM for Accuracy with a random search. Vary at least the main kernel types (linear, polynomial, and RBF), the C parameter, the $\\gamma$ parameter for the RBF kernel and the exponent/degree for the polynomial kernel. Report the optimal hyperparameter settings and Accuracy performance. \n",
    "    - The degree of the polynonial is typically in the range 2..10.\n",
    "    - Hint: note that the hyperparameter ranges depend on each other. For instance, $\\gamma$ only makes sense if you have selected the RBF kernel as well. We've seen in class how to define multiple hyperparameter spaces in a random/grid search.\n",
    "- Use a 5x3-fold (5 outer, 3 inner) nested cross-validation (CV) on the **whole** dataset to obtain a clean evaluation. What is the mean optimized performance? Is this in line with the optimized result of the random search of the previous question?\n",
    "- Train an SVM using the optimal hyperparameter configuration you found (in part 1 of this question) and test it on the held out (20%) test set. Compare this Accuracy result with the (mean) result of the nested CV. If you would build this robot in practice, how would you find the hyperparameters to use, and which performance would you expect? Is it truly necessary to tune the hyperparameters? Which hyperparameters were most important to tune?"
   ]
  },
  {
   "cell_type": "code",
   "execution_count": 3,
   "metadata": {
    "collapsed": false
   },
   "outputs": [
    {
     "name": "stdout",
     "output_type": "stream",
     "text": [
      "(5456, 24)\n"
     ]
    }
   ],
   "source": [
    "robot_data = oml.datasets.get_dataset(1497) # Download Robot data\n",
    "# Get the predictors X and the labels y\n",
    "X, y = robot_data.get_data(target=robot_data.default_target_attribute)"
   ]
  },
  {
   "cell_type": "code",
   "execution_count": 4,
   "metadata": {
    "collapsed": false
   },
   "outputs": [],
   "source": [
    "from sklearn.model_selection import train_test_split\n",
    "from sklearn.model_selection import RandomizedSearchCV\n",
    "from sklearn.model_selection import GridSearchCV \n",
    "from sklearn.model_selection import cross_val_score\n",
    "from scipy.stats import expon\n",
    "from sklearn import svm\n"
   ]
  },
  {
   "cell_type": "code",
   "execution_count": 31,
   "metadata": {
    "collapsed": true
   },
   "outputs": [],
   "source": [
    "def extract_value(info, key):\n",
    "    if key in info:\n",
    "        return info[key]\n",
    "    return 'Na'\n",
    "\n",
    "\n",
    "def create_dataframe(results):\n",
    "    items = []\n",
    "    for result in results:\n",
    "        info = []\n",
    "        info.append(result[0]['C'])\n",
    "        info.append(extract_value(result[0], 'gamma'))\n",
    "        info.append(extract_value(result[0], 'coef0'))\n",
    "        info.append(extract_value(result[0], 'degree'))\n",
    "        info.append(result[1])\n",
    "        items.append((result[0]['kernel'], info))\n",
    "        \n",
    "    return pd.DataFrame.from_items(items, orient='index', \n",
    "                                   columns=['C', 'r', 'gamma', 'degree', 'accuracy'])\n",
    "\n",
    "def select_best(results):\n",
    "    best_accuracy = 0.0\n",
    "    best_params = None\n",
    "    \n",
    "    for result in results:\n",
    "        if result[1] > best_accuracy:\n",
    "            best_accuracy = result[1]\n",
    "            best_params = result[0]\n",
    "    \n",
    "    return (best_params, best_accuracy)"
   ]
  },
  {
   "cell_type": "code",
   "execution_count": 32,
   "metadata": {
    "collapsed": false
   },
   "outputs": [
    {
     "data": {
      "text/plain": [
       "RandomizedSearchCV(cv=5, error_score='raise',\n",
       "          estimator=SVC(C=1.0, cache_size=200, class_weight=None, coef0=0.0,\n",
       "  decision_function_shape=None, degree=3, gamma='auto', kernel='rbf',\n",
       "  max_iter=-1, probability=False, random_state=None, shrinking=True,\n",
       "  tol=0.001, verbose=False),\n",
       "          fit_params={}, iid=True, n_iter=6, n_jobs=1,\n",
       "          param_distributions={'kernel': ['linear'], 'C': [0.0001, 0.001, 0.01, 0.1, 1, 10, 100, 1000]},\n",
       "          pre_dispatch='2*n_jobs', random_state=None, refit=True,\n",
       "          return_train_score=True, scoring='accuracy', verbose=0)"
      ]
     },
     "execution_count": 32,
     "metadata": {},
     "output_type": "execute_result"
    },
    {
     "data": {
      "text/plain": [
       "RandomizedSearchCV(cv=5, error_score='raise',\n",
       "          estimator=SVC(C=1.0, cache_size=200, class_weight=None, coef0=0.0,\n",
       "  decision_function_shape=None, degree=3, gamma='auto', kernel='rbf',\n",
       "  max_iter=-1, probability=False, random_state=None, shrinking=True,\n",
       "  tol=0.001, verbose=False),\n",
       "          fit_params={}, iid=True, n_iter=6, n_jobs=1,\n",
       "          param_distributions={'degree': [2, 3, 4, 5, 6, 7, 8, 9, 10], 'kernel': ['poly'], 'coef0': [0.0625, 0.125, 0.25, 0.5, 1.0, 2, 4, 8, 16, 32], 'C': [0.0001, 0.001, 0.01, 0.1, 1, 10, 100, 1000]},\n",
       "          pre_dispatch='2*n_jobs', random_state=None, refit=True,\n",
       "          return_train_score=True, scoring='accuracy', verbose=0)"
      ]
     },
     "execution_count": 32,
     "metadata": {},
     "output_type": "execute_result"
    },
    {
     "data": {
      "text/plain": [
       "RandomizedSearchCV(cv=5, error_score='raise',\n",
       "          estimator=SVC(C=1.0, cache_size=200, class_weight=None, coef0=0.0,\n",
       "  decision_function_shape=None, degree=3, gamma='auto', kernel='rbf',\n",
       "  max_iter=-1, probability=False, random_state=None, shrinking=True,\n",
       "  tol=0.001, verbose=False),\n",
       "          fit_params={}, iid=True, n_iter=6, n_jobs=1,\n",
       "          param_distributions={'kernel': ['rbf'], 'gamma': [0.0001, 0.001, 0.01, 0.1, 1, 10, 100, 1000], 'C': [0.0001, 0.001, 0.01, 0.1, 1, 10, 100, 1000]},\n",
       "          pre_dispatch='2*n_jobs', random_state=None, refit=True,\n",
       "          return_train_score=True, scoring='accuracy', verbose=0)"
      ]
     },
     "execution_count": 32,
     "metadata": {},
     "output_type": "execute_result"
    },
    {
     "data": {
      "text/plain": [
       "RandomizedSearchCV(cv=5, error_score='raise',\n",
       "          estimator=SVC(C=1.0, cache_size=200, class_weight=None, coef0=0.0,\n",
       "  decision_function_shape=None, degree=3, gamma='auto', kernel='rbf',\n",
       "  max_iter=-1, probability=False, random_state=None, shrinking=True,\n",
       "  tol=0.001, verbose=False),\n",
       "          fit_params={}, iid=True, n_iter=6, n_jobs=1,\n",
       "          param_distributions={'kernel': ['sigmoid'], 'coef0': [0.0625, 0.125, 0.25, 0.5, 1.0, 2, 4, 8, 16, 32], 'gamma': [0.0001, 0.001, 0.01, 0.1, 1, 10, 100, 1000], 'C': [0.0001, 0.001, 0.01, 0.1, 1, 10, 100, 1000]},\n",
       "          pre_dispatch='2*n_jobs', random_state=None, refit=True,\n",
       "          return_train_score=True, scoring='accuracy', verbose=0)"
      ]
     },
     "execution_count": 32,
     "metadata": {},
     "output_type": "execute_result"
    },
    {
     "data": {
      "text/html": [
       "<div>\n",
       "<table border=\"1\" class=\"dataframe\">\n",
       "  <thead>\n",
       "    <tr style=\"text-align: right;\">\n",
       "      <th></th>\n",
       "      <th>C</th>\n",
       "      <th>r</th>\n",
       "      <th>gamma</th>\n",
       "      <th>degree</th>\n",
       "      <th>accuracy</th>\n",
       "    </tr>\n",
       "  </thead>\n",
       "  <tbody>\n",
       "    <tr>\n",
       "      <th>linear</th>\n",
       "      <td>10.0</td>\n",
       "      <td>Na</td>\n",
       "      <td>Na</td>\n",
       "      <td>Na</td>\n",
       "      <td>0.73</td>\n",
       "    </tr>\n",
       "    <tr>\n",
       "      <th>poly</th>\n",
       "      <td>0.1</td>\n",
       "      <td>Na</td>\n",
       "      <td>0.062</td>\n",
       "      <td>5</td>\n",
       "      <td>0.90</td>\n",
       "    </tr>\n",
       "    <tr>\n",
       "      <th>rbf</th>\n",
       "      <td>10.0</td>\n",
       "      <td>0.1</td>\n",
       "      <td>Na</td>\n",
       "      <td>Na</td>\n",
       "      <td>0.90</td>\n",
       "    </tr>\n",
       "    <tr>\n",
       "      <th>sigmoid</th>\n",
       "      <td>100.0</td>\n",
       "      <td>0.0001</td>\n",
       "      <td>2</td>\n",
       "      <td>Na</td>\n",
       "      <td>0.57</td>\n",
       "    </tr>\n",
       "  </tbody>\n",
       "</table>\n",
       "</div>"
      ],
      "text/plain": [
       "             C       r  gamma degree  accuracy\n",
       "linear    10.0      Na     Na     Na      0.73\n",
       "poly       0.1      Na  0.062      5      0.90\n",
       "rbf       10.0     0.1     Na     Na      0.90\n",
       "sigmoid  100.0  0.0001      2     Na      0.57"
      ]
     },
     "metadata": {},
     "output_type": "display_data"
    },
    {
     "name": "stdout",
     "output_type": "stream",
     "text": [
      "Parameters of the best svm classifier: {'degree': 5, 'kernel': 'poly', 'coef0': 0.0625, 'C': 0.1}\n",
      "Best accuracy score on random search cv: 0.90\n"
     ]
    }
   ],
   "source": [
    "X_train, X_test, y_train, y_test = train_test_split(X,y,test_size=0.2,\n",
    "                                                    random_state=0,stratify=y)\n",
    "\n",
    "param_grid = [\n",
    "    {'kernel': ['linear'], \n",
    "     'C': [0.0001, 0.001, 0.01, 0.1, 1, 10, 100, 1000]},\n",
    "    {'kernel': ['poly'],\n",
    "     'C': [0.0001, 0.001, 0.01, 0.1, 1, 10, 100, 1000],\n",
    "     'degree': np.arange(2,11).tolist(),\n",
    "     'coef0': [1.0/16, 1.0/8, 1.0/4, 1.0/2, 1.0, 2, 4, 8, 16, 32]},\n",
    "    {'kernel': ['rbf'], \n",
    "     'C': [0.0001, 0.001, 0.01, 0.1, 1, 10, 100, 1000], \n",
    "     'gamma': [0.0001, 0.001, 0.01, 0.1, 1, 10, 100, 1000]},\n",
    "    {'kernel': ['sigmoid'],\n",
    "     'C': [0.0001, 0.001, 0.01, 0.1, 1, 10, 100, 1000],\n",
    "     'gamma': [0.0001, 0.001, 0.01, 0.1, 1, 10, 100, 1000],\n",
    "     'coef0': [1.0/16, 1.0/8, 1.0/4, 1.0/2, 1.0, 2, 4, 8, 16, 32]}\n",
    " ]\n",
    "\n",
    "n_iter_search = 6\n",
    "random_search_results = []\n",
    "clf_performances = []\n",
    "\n",
    "for params in param_grid:\n",
    "    random_search = RandomizedSearchCV(svm.SVC(),\n",
    "                                       param_distributions=params,\n",
    "                                       n_iter=n_iter_search,\n",
    "                                       scoring='accuracy',\n",
    "                                       cv=5)\n",
    "    random_search.fit(X_train, y_train)\n",
    "    \n",
    "    clf_performances.append((random_search.best_params_,\n",
    "                           random_search.best_score_))\n",
    "    \n",
    "    random_search_results.append(\n",
    "        {\n",
    "            random_search.best_params_['kernel'] :\n",
    "            random_search.cv_results_\n",
    "        }\n",
    "    )\n",
    "    "
   ]
  },
  {
   "cell_type": "markdown",
   "metadata": {},
   "source": [
    "### Optimal hyperparameters settings and accuracy performance"
   ]
  },
  {
   "cell_type": "code",
   "execution_count": 1,
   "metadata": {
    "collapsed": false
   },
   "outputs": [
    {
     "ename": "NameError",
     "evalue": "name 'svm_best_parameters' is not defined",
     "output_type": "error",
     "traceback": [
      "\u001b[1;31m---------------------------------------------------------------------------\u001b[0m",
      "\u001b[1;31mNameError\u001b[0m                                 Traceback (most recent call last)",
      "\u001b[1;32m<ipython-input-1-8d5a2432af1e>\u001b[0m in \u001b[0;36m<module>\u001b[1;34m()\u001b[0m\n\u001b[1;32m----> 1\u001b[1;33m \u001b[0mprint\u001b[0m\u001b[1;33m(\u001b[0m\u001b[1;34m\"Parameters of the best svm classifier: {}\"\u001b[0m\u001b[1;33m.\u001b[0m\u001b[0mformat\u001b[0m\u001b[1;33m(\u001b[0m\u001b[0msvm_best_parameters\u001b[0m\u001b[1;33m)\u001b[0m\u001b[1;33m)\u001b[0m\u001b[1;33m\u001b[0m\u001b[0m\n\u001b[0m\u001b[0;32m      2\u001b[0m \u001b[0mprint\u001b[0m\u001b[1;33m(\u001b[0m\u001b[1;34m\"Best accuracy score on random search cv: {:.2f}\"\u001b[0m\u001b[1;33m.\u001b[0m\u001b[0mformat\u001b[0m\u001b[1;33m(\u001b[0m\u001b[0mbest_accuracy\u001b[0m\u001b[1;33m)\u001b[0m\u001b[1;33m)\u001b[0m\u001b[1;33m\u001b[0m\u001b[0m\n",
      "\u001b[1;31mNameError\u001b[0m: name 'svm_best_parameters' is not defined"
     ]
    }
   ],
   "source": [
    "svm_best_parameters, best_accuracy = select_best(clf_performances)\n",
    "df = create_dataframe(clf_performances)\n",
    "display(df)\n",
    "print(\"Optimal hyperparameters: {}\".format(svm_best_parameters))\n",
    "print(\"Accuracy performance: {:.2f}\".format(best_accuracy))"
   ]
  },
  {
   "cell_type": "code",
   "execution_count": 33,
   "metadata": {
    "collapsed": false
   },
   "outputs": [],
   "source": [
    "\n",
    "def construct_grid_params(best_parameters):\n",
    "    variable_param = []\n",
    "    grid_params = []\n",
    "    if best_parameters['kernel'] == 'poly':\n",
    "        grid_params.append({\n",
    "                'kernel': ['poly'],\n",
    "                'C': [0.0001, 0.001, 0.01, 0.1, 1, 10, 100, 1000],\n",
    "                'degree': [best_parameters['degree']],#*8,\n",
    "                'coef0': [best_parameters['coef0']],#*8\n",
    "            })\n",
    "        variable_param.append('param_C')\n",
    "        \n",
    "        grid_params.append({\n",
    "                'kernel': ['poly'],\n",
    "                'C': [best_parameters['C']],#*9,\n",
    "                'degree': np.arange(2,11).tolist(),\n",
    "                'coef0': [best_parameters['coef0']],#*9                \n",
    "            })\n",
    "        variable_param.append('param_degree')\n",
    "        \n",
    "        grid_params.append({\n",
    "                'kernel': ['poly'],\n",
    "                'C': [best_parameters['C']],#*10,\n",
    "                'degree': [best_parameters['degree']],#*10,\n",
    "                'coef0': [1.0/16, 1.0/8, 1.0/4, 1.0/2, 1.0, 2, 4, 8, 16, 32]                                \n",
    "            })\n",
    "        variable_param.append('param_coef0') \n",
    "    \n",
    "    elif best_parameters['kernel'] == 'rbf':\n",
    "        grid_params.append({\n",
    "                'kernel': ['rbf'],\n",
    "                'C': [0.0001, 0.001, 0.01, 0.1, 1, 10, 100, 1000],\n",
    "                'gamma': [best_parameters['gamma']],#*8\n",
    "            })\n",
    "        variable_param.append('param_C')\n",
    "        \n",
    "        grid_params.append({\n",
    "                'kernel': ['rbf'],\n",
    "                'C': [best_parameters['C']],#*8,\n",
    "                'gamma': [0.0001, 0.001, 0.01, 0.1, 1, 10, 100, 1000]                \n",
    "            })\n",
    "        variable_param.append('param_gamma')\n",
    "    \n",
    "    elif best_parameters['kernel'] == 'sigmoid':\n",
    "        grid_params.append({\n",
    "                'kernel': ['sigmoid'],\n",
    "                'C': [0.0001, 0.001, 0.01, 0.1, 1, 10, 100, 1000],\n",
    "                'gamma': [best_parameters['gamma']],#*8,\n",
    "                'coef0': [best_parameters['coef0']],#*8\n",
    "            })\n",
    "        variable_param.append('param_C')\n",
    "        \n",
    "        grid_params.append({\n",
    "                'kernel': ['sigmoid'],\n",
    "                'C': [best_parameters['C']],#*8,\n",
    "                'gamma': [0.0001, 0.001, 0.01, 0.1, 1, 10, 100, 1000],\n",
    "                'coef0': [best_parameters['coef0']],#*8                \n",
    "            })\n",
    "        variable_param.append('param_gamma')\n",
    "        \n",
    "        grid_params.append({\n",
    "                'kernel': ['sigmoid'],\n",
    "                'C': [best_parameters['C']],#*10,\n",
    "                'gamma': [best_parameters['gamma']],#*10,\n",
    "                'coef0': [1.0/16, 1.0/8, 1.0/4, 1.0/2, 1.0, 2, 4, 8, 16, 32]                                \n",
    "            })\n",
    "        variable_param.append('param_coef0')\n",
    "    \n",
    "    return (grid_params, variable_param)\n",
    "\n",
    "def extract_variable(parameters):\n",
    "    variable = []\n",
    "    for key in parameters:\n",
    "        if len(parameters[key]) > 1:\n",
    "            variable = parameters[key]\n",
    "    return variable\n"
   ]
  },
  {
   "cell_type": "code",
   "execution_count": 34,
   "metadata": {
    "collapsed": false
   },
   "outputs": [
    {
     "data": {
      "text/plain": [
       "GridSearchCV(cv=5, error_score='raise',\n",
       "       estimator=SVC(C=1.0, cache_size=200, class_weight=None, coef0=0.0,\n",
       "  decision_function_shape=None, degree=3, gamma='auto', kernel='rbf',\n",
       "  max_iter=-1, probability=False, random_state=None, shrinking=True,\n",
       "  tol=0.001, verbose=False),\n",
       "       fit_params={}, iid=True, n_jobs=1,\n",
       "       param_grid={'degree': [5], 'kernel': ['poly'], 'coef0': [0.0625], 'C': [0.0001, 0.001, 0.01, 0.1, 1, 10, 100, 1000]},\n",
       "       pre_dispatch='2*n_jobs', refit=True, return_train_score=True,\n",
       "       scoring='accuracy', verbose=0)"
      ]
     },
     "execution_count": 34,
     "metadata": {},
     "output_type": "execute_result"
    },
    {
     "data": {
      "text/plain": [
       "GridSearchCV(cv=5, error_score='raise',\n",
       "       estimator=SVC(C=1.0, cache_size=200, class_weight=None, coef0=0.0,\n",
       "  decision_function_shape=None, degree=3, gamma='auto', kernel='rbf',\n",
       "  max_iter=-1, probability=False, random_state=None, shrinking=True,\n",
       "  tol=0.001, verbose=False),\n",
       "       fit_params={}, iid=True, n_jobs=1,\n",
       "       param_grid={'degree': [2, 3, 4, 5, 6, 7, 8, 9, 10], 'kernel': ['poly'], 'coef0': [0.0625], 'C': [0.1]},\n",
       "       pre_dispatch='2*n_jobs', refit=True, return_train_score=True,\n",
       "       scoring='accuracy', verbose=0)"
      ]
     },
     "execution_count": 34,
     "metadata": {},
     "output_type": "execute_result"
    },
    {
     "data": {
      "text/plain": [
       "GridSearchCV(cv=5, error_score='raise',\n",
       "       estimator=SVC(C=1.0, cache_size=200, class_weight=None, coef0=0.0,\n",
       "  decision_function_shape=None, degree=3, gamma='auto', kernel='rbf',\n",
       "  max_iter=-1, probability=False, random_state=None, shrinking=True,\n",
       "  tol=0.001, verbose=False),\n",
       "       fit_params={}, iid=True, n_jobs=1,\n",
       "       param_grid={'degree': [5], 'kernel': ['poly'], 'coef0': [0.0625, 0.125, 0.25, 0.5, 1.0, 2, 4, 8, 16, 32], 'C': [0.1]},\n",
       "       pre_dispatch='2*n_jobs', refit=True, return_train_score=True,\n",
       "       scoring='accuracy', verbose=0)"
      ]
     },
     "execution_count": 34,
     "metadata": {},
     "output_type": "execute_result"
    }
   ],
   "source": [
    "ev_grid_params, variable_param = construct_grid_params(svm_best_parameters)\n",
    "cv_results = []\n",
    "\n",
    "for index, grid_param in enumerate(ev_grid_params):\n",
    "    \n",
    "    grid_search = GridSearchCV(svm.SVC(), grid_param, scoring='accuracy', cv=5)\n",
    "    grid_search.fit(X_train, y_train)\n",
    "    \n",
    "    cv_results.append({variable_param[index]:{'mean_test_score':\n",
    "                                              grid_search.cv_results_[\"mean_test_score\"],\n",
    "                                              'variable_values':\n",
    "                                              extract_variable(grid_param)\n",
    "                                             }})"
   ]
  },
  {
   "cell_type": "markdown",
   "metadata": {},
   "source": [
    "### Visualizing hyperparameter impact"
   ]
  },
  {
   "cell_type": "code",
   "execution_count": 35,
   "metadata": {
    "collapsed": true
   },
   "outputs": [],
   "source": [
    "def create_plot(parameters, fig):\n",
    "    var_name = list(parameters.keys())[0]\n",
    "    content = parameters[var_name]\n",
    "    var_value = content['variable_values']\n",
    "    mean_test_scores = content['mean_test_score']\n",
    "    if (var_name == 'param_C' or var_name == 'param_gamma'):\n",
    "        plt.semilogx(var_value, mean_test_scores)\n",
    "    else:\n",
    "        plt.plot(var_value, mean_test_scores)\n",
    "    plt.legend([\"variable: \" + var_name], loc=\"upper left\")\n",
    "    plt.figure(fig)\n",
    "    plt.show()\n",
    "    "
   ]
  },
  {
   "cell_type": "code",
   "execution_count": 36,
   "metadata": {
    "collapsed": false
   },
   "outputs": [
    {
     "data": {
      "text/plain": [
       "<matplotlib.figure.Figure at 0x7fd442e78e80>"
      ]
     },
     "metadata": {},
     "output_type": "display_data"
    },
    {
     "data": {
      "application/pdf": "[encoded data removed]",
      "image/png": "[encoded data removed]",
      "text/plain": [
       "<matplotlib.figure.Figure at 0x7fd442f3eb70>"
      ]
     },
     "metadata": {},
     "output_type": "display_data"
    },
    {
     "data": {
      "application/pdf": "[encoded data removed]",
      "image/png": "[encoded data removed]",
      "text/plain": [
       "<matplotlib.figure.Figure at 0x7fd44317cc88>"
      ]
     },
     "metadata": {},
     "output_type": "display_data"
    },
    {
     "data": {
      "application/pdf": "[encoded data removed]",
      "image/png": "[encoded data removed]",
      "text/plain": [
       "<matplotlib.figure.Figure at 0x7fd443144c18>"
      ]
     },
     "metadata": {},
     "output_type": "display_data"
    },
    {
     "data": {
      "text/plain": [
       "<matplotlib.figure.Figure at 0x7fd443086320>"
      ]
     },
     "metadata": {},
     "output_type": "display_data"
    }
   ],
   "source": [
    "labels = []\n",
    "for index, element in enumerate(cv_results):\n",
    "  create_plot(element, index)"
   ]
  },
  {
   "cell_type": "markdown",
   "metadata": {},
   "source": [
    "Make a stratified 80-20 split of the data. On the training set alone, optimize the main hyperparameters of the SVM for Accuracy with a random search. Vary at least the main kernel types (linear, polynomial, and RBF), the C parameter, the  γ  parameter for the RBF kernel and the exponent/degree for the polynomial kernel. Report the optimal hyperparameter settings and Accuracy performance.\n",
    "    The degree of the polynonial is typically in the range 2..10.\n",
    "    Hint: note that the hyperparameter ranges depend on each other. For instance,  γγ only makes sense if you have selected the RBF kernel as well. We've seen in class how to define multiple hyperparameter spaces in a random/grid search."
   ]
  },
  {
   "cell_type": "code",
   "execution_count": 38,
   "metadata": {
    "collapsed": false
   },
   "outputs": [
    {
     "name": "stdout",
     "output_type": "stream",
     "text": [
      "Mean accuracy for nested cross-validation: 0.86\n"
     ]
    }
   ],
   "source": [
    "results = []\n",
    "\n",
    "for params in param_grid:\n",
    "    scores= cross_val_score(RandomizedSearchCV(svm.SVC(), \n",
    "                                               param_distributions=params,\n",
    "                                               n_iter=n_iter_search,\n",
    "                                               scoring='accuracy',\n",
    "                                               cv=3),\n",
    "                                           X, y, cv=5)\n",
    "    \n",
    "    results.append((params['kernel'], scores.mean()))\n",
    "\n",
    "best_kernel, best_mean_accuracy = select_best(results)\n"
   ]
  },
  {
   "cell_type": "code",
   "execution_count": null,
   "metadata": {
    "collapsed": true
   },
   "outputs": [],
   "source": [
    "print(\"Mean accuracy for nested cross-validation: {:.2f}\".format(best_mean_accuracy))"
   ]
  },
  {
   "cell_type": "markdown",
   "metadata": {},
   "source": [
    "The accuracy obtained from the random search is better than the mean optimized performance obtained with cross validation. Random search seems to perform better than cross validation, but the difference between performance values is small, and cross validation works over different training/test sets while random search does not (this time it seems like it got a nice training/test split).We think the results from cross validation and random search are in line."
   ]
  },
  {
   "cell_type": "code",
   "execution_count": 39,
   "metadata": {
    "collapsed": false,
    "scrolled": true
   },
   "outputs": [
    {
     "data": {
      "text/plain": [
       "SVC(C=0.1, cache_size=200, class_weight=None, coef0=0.0625,\n",
       "  decision_function_shape=None, degree=5, gamma='auto', kernel='poly',\n",
       "  max_iter=-1, probability=False, random_state=None, shrinking=True,\n",
       "  tol=0.001, verbose=False)"
      ]
     },
     "execution_count": 39,
     "metadata": {},
     "output_type": "execute_result"
    },
    {
     "name": "stdout",
     "output_type": "stream",
     "text": [
      "Computed score on test set: 0.92\n"
     ]
    }
   ],
   "source": [
    "opt_svm = svm.SVC(**svm_best_parameters)\n",
    "opt_svm.fit(X_train, y_train)\n",
    "score = opt_svm.score(X_test, y_test)\n",
    "print(\"Computed score on test set: {:.2f}\".format(score))"
   ]
  },
  {
   "cell_type": "markdown",
   "metadata": {},
   "source": [
    "The accuracy result of the held out test set is better than the results from cross validation.\n",
    "\n",
    "In practice we could use nested cross validation implemented from scratch to retrieve the best hyperparameters trained using grid search or random search.\n",
    "\n",
    "I would expect a performance better than 0.90\n",
    "\n",
    "The graphs from before show that parameter C affects the svm's peformance more than the other parameters."
   ]
  },
  {
   "cell_type": "markdown",
   "metadata": {},
   "source": [
    "## A benchmark study (3 points (2+1))\n",
    "\n",
    "A benchmark study is an experiment in which multiple algorithms are evaluated on multiple datasets. The end goal is to study whether one algorithm is generally better than the others. Meaningful benchmark studies can grow quite complex, here we do a simplified variant.\n",
    "\n",
    "* Download OpenML datasets 37, 470, 1120, 1464 and 1471. They are sufficiently large (e.g., at least 500 data points) so that the performance estimation is trustworthy. Select at least three classifiers that we discussed in class, e.g. kNN, Logistic Regression, Random Forests, Gradient Boosting, SVMs, Naive Bayes. Note that some of these algorithms take longer to train. Evaluate all classifiers (with default parameter settings) on all datasets, using a 10-fold CV and AUC. Show the results in a table and interpret them. Which is the best algorithm in this benchmark?\n",
    "    * Note that these datasets have categorical features, different scales, missing values, and (likely) irrelevant features. You'll need to build pipelines to correctly build all models. Also remove any row identifiers (see, e.g., https://www.openml.org/d/1120)\n",
    "    * Hint: You can either compare the performances directly, or (better) use a statistical significance test, e.g. a pairwise t-test or (better) Wilcoxon signed ranks test, to see whether the performance differences are significant. This is covered in statistics courses. You can then count wins, ties and losses.\n",
    "* Repeat the benchmark, but now additionally optimize the main hyperparameters of each algorithm in a grid or random search (explore at least 5 values per hyperparameter, where possible). Does this affect the ranking of the algorithms?"
   ]
  },
  {
   "cell_type": "markdown",
   "metadata": {
    "collapsed": true
   },
   "source": [
    "## Gaussian Processes (2 points (1+1))\n",
    "\n",
    "Consider the RAM prices dataset (included in the data folder). Separate the data in a training set of all data points up until the year 2000, and a test set with all points after that.\n",
    "\n",
    "- Train several of the algorithms we have covered in the course that can handle regression. Include at least linear regression, decision tree, and RandomForest. Which ones give the best $R^2$ performance on the test set? Plot the predictions (both on the training and test data) on the figure below. Use different colors for different algorithms or build multiple plots.\n",
    "- Train a Gaussian process on an increasing amount of samples of the training data. Start with 5 random sample and plot the predictions (both the mean and the uncertainty interval) for both training and test data, as shown in class. Now add 5 more points and retrain and redraw. Do this a couple of times and interpret/explain what you see. Finally, train the Gaussian on the full dataset and again show plot the predictions. Evaluate on the test set using  $R^2$. Compare these results with those achieved with other algorithms and explain."
   ]
  },
  {
   "cell_type": "code",
   "execution_count": 3,
   "metadata": {
    "collapsed": false
   },
   "outputs": [
    {
     "data": {
      "application/pdf": "[encoded data removed]",
      "image/png": "[encoded data removed]",
      "text/plain": [
       "<matplotlib.figure.Figure at 0x1063e2278>"
      ]
     },
     "metadata": {},
     "output_type": "display_data"
    }
   ],
   "source": [
    "ram_prices = pd.read_csv('data/ram_price.csv')\n",
    "\n",
    "plt.semilogy(ram_prices.date, ram_prices.price)\n",
    "plt.xlabel(\"Year\")\n",
    "plt.ylabel(\"Price in $/Mbyte\");"
   ]
  },
  {
   "cell_type": "markdown",
   "metadata": {},
   "source": [
    "## A mini-data mining challenge (2 points (+1))"
   ]
  },
  {
   "cell_type": "markdown",
   "metadata": {},
   "source": [
    "The goal here is to use everything you have learned to build the best model for a given classification task. The task is hosted on OpenML, so you will receive the train-test splits, and your model will be evaluated on the server. The goal is to reasonably select algorithms and hyperparameter settings to obtain the best model. You can also do model selection and parameter optimization as you have done before. Skeleton code is provided in the OpenML tutorial.\n",
    "\n",
    "- All details can be found online:\n",
    "    - The OpenML Task ID is 145677: https://www.openml.org/t/145677\n",
    "    - The dataset description can be found here: https://www.openml.org/d/4134\n",
    "- A leaderboard is kept of the best models: https://www.openml.org/t/145677#!people\n",
    "    - You are able to see the solutions of others (by clicking in the timeline or run list), but resubmission of the exact same solution does not register on the leaderboard.\n",
    "    - You can share one account (one API key) per team. In case you use two, we take the one that performs best.\n",
    "- You can document the different experiments that you ran in this notebook. For each experiment, provide a description of how you chose the algorithms and parameters that you submitted. Try to reason about which experiments to try, don't just do an immense random search.\n",
    "- Points are rewarded as follows:\n",
    "    - 1 point for the breadth of experiments you ran (algorithms, hyperparameter settings)\n",
    "    - 1 point for reasoning/insight and interpretation of the results\n",
    "    - 1 (bonus) point for every team who has uploaded the best solution thus far **on AUC** (who reaches the top of the leaderboard at any moment during the assignment)\n",
    "        - Note: On the leaderboard page, the 'frontier' line is drawn, and your top ranking is also shown in the table.\n",
    "        \n",
    "Note: Report AUC scores in your report as well. In case of issues with OpenML we will use the experiments and scores mentioned your report."
   ]
  },
  {
   "cell_type": "code",
   "execution_count": null,
   "metadata": {
    "collapsed": true
   },
   "outputs": [],
   "source": []
  }
 ],
 "metadata": {
  "anaconda-cloud": {},
  "kernelspec": {
   "display_name": "Python [Root]",
   "language": "python",
   "name": "Python [Root]"
  },
  "language_info": {
   "codemirror_mode": {
    "name": "ipython",
    "version": 3
   },
   "file_extension": ".py",
   "mimetype": "text/x-python",
   "name": "python",
   "nbconvert_exporter": "python",
   "pygments_lexer": "ipython3",
   "version": "3.5.2"
  }
 },
 "nbformat": 4,
 "nbformat_minor": 2
}
